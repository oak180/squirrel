{
 "cells": [
  {
   "cell_type": "markdown",
   "id": "9c9d74d8",
   "metadata": {},
   "source": [
    "# Intervention through REST Web Services"
   ]
  },
  {
   "cell_type": "markdown",
   "id": "427aa980",
   "metadata": {},
   "source": [
    "## Imports and setup"
   ]
  },
  {
   "cell_type": "code",
   "execution_count": null,
   "id": "6078e2ac",
   "metadata": {},
   "outputs": [],
   "source": [
    "import requests\n",
    "\n",
    "rest_url = 'http://localhost:8080/openmrs/ws/rest/v1/'\n",
    "username, password = 'admin', 'Admin123'"
   ]
  },
  {
   "cell_type": "markdown",
   "id": "93bf983c",
   "metadata": {},
   "source": [
    "## Person Attributes"
   ]
  },
  {
   "cell_type": "code",
   "execution_count": null,
   "id": "71cfc807",
   "metadata": {},
   "outputs": [],
   "source": [
    "r = requests.get(rest_url + 'personattributetype', auth=(username, password))\n",
    "r.json()"
   ]
  },
  {
   "cell_type": "markdown",
   "id": "a556cf5b",
   "metadata": {},
   "source": [
    "## Find a person"
   ]
  },
  {
   "cell_type": "code",
   "execution_count": null,
   "id": "7ae010b7",
   "metadata": {},
   "outputs": [],
   "source": [
    "r = requests.get(rest_url + 'person/5e1e7781-a842-4e23-adfd-2c533611f974/', auth=(username, password))\n",
    "r.json()"
   ]
  },
  {
   "cell_type": "markdown",
   "id": "56806e6d",
   "metadata": {},
   "source": [
    "## Create a person"
   ]
  },
  {
   "cell_type": "code",
   "execution_count": null,
   "id": "fa4727b4",
   "metadata": {},
   "outputs": [],
   "source": [
    "payload = {\n",
    "    'names': [\n",
    "        {\n",
    "        'givenName': 'Mohit',\n",
    "        'familyName': 'Kumar'\n",
    "        }\n",
    "    ],\n",
    "    'gender': 'M',\n",
    "    'birthdate': '1997-09-02',\n",
    "    'addresses': [\n",
    "        {\n",
    "        'address1': '30, Vivekananda Layout, Munnekolal,Marathahalli',\n",
    "        'cityVillage': 'Bengaluru',\n",
    "        'country': 'India',\n",
    "        'postalCode': '560037'\n",
    "        }\n",
    "    ]\n",
    "}\n",
    "\n",
    "p = requests.post(\n",
    "    rest_url + 'person',\n",
    "    json=payload,\n",
    "    auth=(username, password)\n",
    ")\n",
    "p.json()"
   ]
  },
  {
   "cell_type": "markdown",
   "id": "b127df66",
   "metadata": {},
   "source": [
    "## Find new person"
   ]
  },
  {
   "cell_type": "code",
   "execution_count": null,
   "id": "dbab14fb",
   "metadata": {},
   "outputs": [],
   "source": [
    "q = requests.get(rest_url + 'person/3c120395-3282-4490-bf9a-13cc5a1744ff', auth=(username, password))\n",
    "q.json()"
   ]
  },
  {
   "cell_type": "markdown",
   "id": "144f86ad",
   "metadata": {},
   "source": [
    "## Create a patient"
   ]
  },
  {
   "cell_type": "code",
   "execution_count": null,
   "id": "35b857bc",
   "metadata": {},
   "outputs": [],
   "source": [
    "pt_payload = {\n",
    "    'person': '3c120395-3282-4490-bf9a-13cc5a1744ff',\n",
    "    'identifiers': [\n",
    "        {\n",
    "            'identifier': '1003EY',\n",
    "            'identifierType': '05a29f94-c0ed-11e2-94be-8c13b969e334',\n",
    "            'location': '44c3efb0-2583-4c80-a79e-1f756a03c0a1',\n",
    "            'preferred': False\n",
    "        }\n",
    "    ]\n",
    "}\n",
    "\n",
    "pt_post = requests.post(\n",
    "    rest_url + 'patient',\n",
    "    json=pt_payload,\n",
    "    auth=(username, password)\n",
    ")\n",
    "pt_post.json()"
   ]
  },
  {
   "cell_type": "code",
   "execution_count": null,
   "id": "4d34b35c",
   "metadata": {},
   "outputs": [],
   "source": [
    "kj_payload = {\n",
    "    'identifiers': [\n",
    "        {\n",
    "            'identifier': '',\n",
    "            'identifierType': '',\n",
    "            'location': '',\n",
    "            'preferred': True\n",
    "        }\n",
    "    ],\n",
    "    'person': {\n",
    "        'gender': 'M',\n",
    "        'age': 38,\n",
    "        'birthdate':'1987-01-01T00:00:00.000+0100',\n",
    "        'birthdateEstimated': True,\n",
    "        'dead': False,\n",
    "        'deathDate': None,\n",
    "        'causeOfDeath': None,\n",
    "        'names': [\n",
    "            {\n",
    "                'given_name': 'Tapal',\n",
    "                'family_name': 'Danedar'\n",
    "            }\n",
    "        ],\n",
    "        'addresses': [\n",
    "            {\n",
    "                'address1': 'St. 1, New Town',\n",
    "                'cityVillage': 'Karachi',\n",
    "                'country': 'Pakistan',\n",
    "                'postalCode': '74800'\n",
    "            }\n",
    "        ]\n",
    "    }\n",
    "}"
   ]
  }
 ],
 "metadata": {
  "kernelspec": {
   "display_name": "squirrel",
   "language": "python",
   "name": "python3"
  },
  "language_info": {
   "codemirror_mode": {
    "name": "ipython",
    "version": 3
   },
   "file_extension": ".py",
   "mimetype": "text/x-python",
   "name": "python",
   "nbconvert_exporter": "python",
   "pygments_lexer": "ipython3",
   "version": "3.12.10"
  }
 },
 "nbformat": 4,
 "nbformat_minor": 5
}
