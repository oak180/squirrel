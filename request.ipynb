{
 "cells": [
  {
   "cell_type": "code",
   "execution_count": 23,
   "id": "6078e2ac",
   "metadata": {},
   "outputs": [],
   "source": [
    "import requests\n",
    "\n",
    "username, password = 'admin', 'Admin123'"
   ]
  },
  {
   "cell_type": "code",
   "execution_count": 24,
   "id": "71cfc807",
   "metadata": {},
   "outputs": [
    {
     "data": {
      "text/plain": [
       "{'results': [{'uuid': 'ea58120f-7ab4-11f0-9eb4-e0946751c66a',\n",
       "   'display': 'email',\n",
       "   'links': [{'rel': 'self',\n",
       "     'uri': 'http://localhost:8080/openmrs/ws/rest/v1/personattributetype/ea58120f-7ab4-11f0-9eb4-e0946751c66a',\n",
       "     'resourceAlias': 'personattributetype'}]},\n",
       "  {'uuid': '8d8718c2-c2cc-11de-8d13-0010c6dffd0f',\n",
       "   'display': 'Birthplace',\n",
       "   'links': [{'rel': 'self',\n",
       "     'uri': 'http://localhost:8080/openmrs/ws/rest/v1/personattributetype/8d8718c2-c2cc-11de-8d13-0010c6dffd0f',\n",
       "     'resourceAlias': 'personattributetype'}]},\n",
       "  {'uuid': '8d871afc-c2cc-11de-8d13-0010c6dffd0f',\n",
       "   'display': 'Citizenship',\n",
       "   'links': [{'rel': 'self',\n",
       "     'uri': 'http://localhost:8080/openmrs/ws/rest/v1/personattributetype/8d871afc-c2cc-11de-8d13-0010c6dffd0f',\n",
       "     'resourceAlias': 'personattributetype'}]},\n",
       "  {'uuid': '8d871f2a-c2cc-11de-8d13-0010c6dffd0f',\n",
       "   'display': 'Civil Status',\n",
       "   'links': [{'rel': 'self',\n",
       "     'uri': 'http://localhost:8080/openmrs/ws/rest/v1/personattributetype/8d871f2a-c2cc-11de-8d13-0010c6dffd0f',\n",
       "     'resourceAlias': 'personattributetype'}]},\n",
       "  {'uuid': '8d87236c-c2cc-11de-8d13-0010c6dffd0f',\n",
       "   'display': 'Health Center',\n",
       "   'links': [{'rel': 'self',\n",
       "     'uri': 'http://localhost:8080/openmrs/ws/rest/v1/personattributetype/8d87236c-c2cc-11de-8d13-0010c6dffd0f',\n",
       "     'resourceAlias': 'personattributetype'}]},\n",
       "  {'uuid': '8d872150-c2cc-11de-8d13-0010c6dffd0f',\n",
       "   'display': 'Health District',\n",
       "   'links': [{'rel': 'self',\n",
       "     'uri': 'http://localhost:8080/openmrs/ws/rest/v1/personattributetype/8d872150-c2cc-11de-8d13-0010c6dffd0f',\n",
       "     'resourceAlias': 'personattributetype'}]},\n",
       "  {'uuid': '8d871d18-c2cc-11de-8d13-0010c6dffd0f',\n",
       "   'display': \"Mother's Name\",\n",
       "   'links': [{'rel': 'self',\n",
       "     'uri': 'http://localhost:8080/openmrs/ws/rest/v1/personattributetype/8d871d18-c2cc-11de-8d13-0010c6dffd0f',\n",
       "     'resourceAlias': 'personattributetype'}]},\n",
       "  {'uuid': '8d871386-c2cc-11de-8d13-0010c6dffd0f',\n",
       "   'display': 'Race',\n",
       "   'links': [{'rel': 'self',\n",
       "     'uri': 'http://localhost:8080/openmrs/ws/rest/v1/personattributetype/8d871386-c2cc-11de-8d13-0010c6dffd0f',\n",
       "     'resourceAlias': 'personattributetype'}]},\n",
       "  {'uuid': '14d4f066-15f5-102d-96e4-000c29c2a5d7',\n",
       "   'display': 'Telephone Number',\n",
       "   'links': [{'rel': 'self',\n",
       "     'uri': 'http://localhost:8080/openmrs/ws/rest/v1/personattributetype/14d4f066-15f5-102d-96e4-000c29c2a5d7',\n",
       "     'resourceAlias': 'personattributetype'}]},\n",
       "  {'uuid': '8b56eac7-5c76-4b9c-8c6f-1deab8d3fc47',\n",
       "   'display': 'Unknown patient',\n",
       "   'links': [{'rel': 'self',\n",
       "     'uri': 'http://localhost:8080/openmrs/ws/rest/v1/personattributetype/8b56eac7-5c76-4b9c-8c6f-1deab8d3fc47',\n",
       "     'resourceAlias': 'personattributetype'}]}]}"
      ]
     },
     "execution_count": 24,
     "metadata": {},
     "output_type": "execute_result"
    }
   ],
   "source": [
    "r = requests.get('http://localhost:8080/openmrs/ws/rest/v1/personattributetype', auth=(username, password))\n",
    "r.json()"
   ]
  },
  {
   "cell_type": "code",
   "execution_count": 26,
   "id": "7ae010b7",
   "metadata": {},
   "outputs": [
    {
     "data": {
      "text/plain": [
       "{'results': [{'display': 'Super User',\n",
       "   'uuid': '5f897a68-6814-11e8-923f-e9a88dcb533f',\n",
       "   'givenName': 'Super',\n",
       "   'middleName': None,\n",
       "   'familyName': 'User',\n",
       "   'familyName2': None,\n",
       "   'voided': False,\n",
       "   'links': [{'rel': 'self',\n",
       "     'uri': 'http://localhost:8080/openmrs/ws/rest/v1/person/5f87c042-6814-11e8-923f-e9a88dcb533f/name/5f897a68-6814-11e8-923f-e9a88dcb533f',\n",
       "     'resourceAlias': 'name'},\n",
       "    {'rel': 'full',\n",
       "     'uri': 'http://localhost:8080/openmrs/ws/rest/v1/person/5f87c042-6814-11e8-923f-e9a88dcb533f/name/5f897a68-6814-11e8-923f-e9a88dcb533f?v=full',\n",
       "     'resourceAlias': 'name'}],\n",
       "   'resourceVersion': '1.8'}]}"
      ]
     },
     "execution_count": 26,
     "metadata": {},
     "output_type": "execute_result"
    }
   ],
   "source": [
    "r = requests.get('http://localhost:8080/openmrs/ws/rest/v1/person/5f87c042-6814-11e8-923f-e9a88dcb533f/name', auth=(username, password))\n",
    "r.json()"
   ]
  }
 ],
 "metadata": {
  "kernelspec": {
   "display_name": "squirrel",
   "language": "python",
   "name": "python3"
  },
  "language_info": {
   "codemirror_mode": {
    "name": "ipython",
    "version": 3
   },
   "file_extension": ".py",
   "mimetype": "text/x-python",
   "name": "python",
   "nbconvert_exporter": "python",
   "pygments_lexer": "ipython3",
   "version": "3.12.10"
  }
 },
 "nbformat": 4,
 "nbformat_minor": 5
}
