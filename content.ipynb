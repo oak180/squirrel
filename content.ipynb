{
 "cells": [
  {
   "cell_type": "markdown",
   "id": "e5c55ea6",
   "metadata": {},
   "source": [
    "## Import and setup"
   ]
  },
  {
   "cell_type": "code",
   "execution_count": 1,
   "id": "3683eced",
   "metadata": {},
   "outputs": [],
   "source": [
    "from dotenv import load_dotenv\n",
    "import os\n",
    "import requests\n",
    "\n",
    "load_dotenv()\n",
    "\n",
    "ws_uri = os.getenv('WS_URI')\n",
    "ws_auth = (os.getenv('WS_USER'), os.getenv('WS_PASS'))"
   ]
  },
  {
   "cell_type": "code",
   "execution_count": 2,
   "id": "c94cada9",
   "metadata": {},
   "outputs": [
    {
     "data": {
      "text/plain": [
       "{'results': [{'uuid': '302AAAAAAAAAAAAAAAAAAAAAAAAAAAAAAAAA',\n",
       "   'display': 'Urinalysis order',\n",
       "   'links': [{'rel': 'self',\n",
       "     'uri': 'http://localhost:8080/openmrs/ws/rest/v1/concept/302AAAAAAAAAAAAAAAAAAAAAAAAAAAAAAAAA',\n",
       "     'resourceAlias': 'concept'}]},\n",
       "  {'uuid': '737fa73a-509f-40d8-9e84-91dc71db7f4c',\n",
       "   'display': 'Order discontinued',\n",
       "   'links': [{'rel': 'self',\n",
       "     'uri': 'http://localhost:8080/openmrs/ws/rest/v1/concept/737fa73a-509f-40d8-9e84-91dc71db7f4c',\n",
       "     'resourceAlias': 'concept'}]},\n",
       "  {'uuid': '159946AAAAAAAAAAAAAAAAAAAAAAAAAAAAAA',\n",
       "   'display': 'Diagnosis order',\n",
       "   'links': [{'rel': 'self',\n",
       "     'uri': 'http://localhost:8080/openmrs/ws/rest/v1/concept/159946AAAAAAAAAAAAAAAAAAAAAAAAAAAAAA',\n",
       "     'resourceAlias': 'concept'}]},\n",
       "  {'uuid': '2458150f-93ed-4be1-a72c-fdafd3de30d2',\n",
       "   'display': 'Stale-dated order',\n",
       "   'links': [{'rel': 'self',\n",
       "     'uri': 'http://localhost:8080/openmrs/ws/rest/v1/concept/2458150f-93ed-4be1-a72c-fdafd3de30d2',\n",
       "     'resourceAlias': 'concept'}]},\n",
       "  {'uuid': '71617AAAAAAAAAAAAAAAAAAAAAAAAAAAAAAA',\n",
       "   'display': 'Aspirin',\n",
       "   'links': [{'rel': 'self',\n",
       "     'uri': 'http://localhost:8080/openmrs/ws/rest/v1/concept/71617AAAAAAAAAAAAAAAAAAAAAAAAAAAAAAA',\n",
       "     'resourceAlias': 'concept'}]},\n",
       "  {'uuid': '1283AAAAAAAAAAAAAAAAAAAAAAAAAAAAAAAA',\n",
       "   'display': 'Laboratory orders',\n",
       "   'links': [{'rel': 'self',\n",
       "     'uri': 'http://localhost:8080/openmrs/ws/rest/v1/concept/1283AAAAAAAAAAAAAAAAAAAAAAAAAAAAAAAA',\n",
       "     'resourceAlias': 'concept'}]},\n",
       "  {'uuid': '1272AAAAAAAAAAAAAAAAAAAAAAAAAAAAAAAA',\n",
       "   'display': 'Referrals ordered',\n",
       "   'links': [{'rel': 'self',\n",
       "     'uri': 'http://localhost:8080/openmrs/ws/rest/v1/concept/1272AAAAAAAAAAAAAAAAAAAAAAAAAAAAAAAA',\n",
       "     'resourceAlias': 'concept'}]},\n",
       "  {'uuid': '1441AAAAAAAAAAAAAAAAAAAAAAAAAAAAAAAA',\n",
       "   'display': 'Current immunization orders',\n",
       "   'links': [{'rel': 'self',\n",
       "     'uri': 'http://localhost:8080/openmrs/ws/rest/v1/concept/1441AAAAAAAAAAAAAAAAAAAAAAAAAAAAAAAA',\n",
       "     'resourceAlias': 'concept'}]},\n",
       "  {'uuid': '1748a953-d12e-4be1-914c-f6b096c6cdef',\n",
       "   'display': 'Tests Orderability',\n",
       "   'links': [{'rel': 'self',\n",
       "     'uri': 'http://localhost:8080/openmrs/ws/rest/v1/concept/1748a953-d12e-4be1-914c-f6b096c6cdef',\n",
       "     'resourceAlias': 'concept'}]}]}"
      ]
     },
     "execution_count": 2,
     "metadata": {},
     "output_type": "execute_result"
    }
   ],
   "source": [
    "order_concepts = requests.get(ws_uri + 'concept?q=order', auth = ws_auth).json()\n",
    "order_names = []\n",
    "\n",
    "for each in order_concepts.get('results'):\n",
    "    order_names.append(each.get('display'))\n",
    "\n",
    "order_concepts"
   ]
  }
 ],
 "metadata": {
  "kernelspec": {
   "display_name": "squirrel",
   "language": "python",
   "name": "python3"
  },
  "language_info": {
   "codemirror_mode": {
    "name": "ipython",
    "version": 3
   },
   "file_extension": ".py",
   "mimetype": "text/x-python",
   "name": "python",
   "nbconvert_exporter": "python",
   "pygments_lexer": "ipython3",
   "version": "3.12.10"
  }
 },
 "nbformat": 4,
 "nbformat_minor": 5
}
