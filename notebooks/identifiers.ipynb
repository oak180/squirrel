{
 "cells": [
  {
   "cell_type": "markdown",
   "id": "f7bfecd0",
   "metadata": {},
   "source": [
    "# Patient Identifiers"
   ]
  },
  {
   "cell_type": "markdown",
   "id": "a2465e6d",
   "metadata": {},
   "source": [
    "## Import and setup"
   ]
  },
  {
   "cell_type": "code",
   "execution_count": 15,
   "id": "b065c17f",
   "metadata": {},
   "outputs": [],
   "source": [
    "import requests\n",
    "\n",
    "rest_url = 'http://localhost:8080/openmrs/ws/rest/v1/'\n",
    "myauth = ('admin', 'Admin123')"
   ]
  },
  {
   "cell_type": "markdown",
   "id": "99ea30e5",
   "metadata": {},
   "source": [
    "## Identifier Types"
   ]
  },
  {
   "cell_type": "code",
   "execution_count": null,
   "id": "2b5d33cc",
   "metadata": {},
   "outputs": [
    {
     "name": "stdout",
     "output_type": "stream",
     "text": [
      "05a29f94-c0ed-11e2-94be-8c13b969e334: OpenMRS ID\n",
      "b4143563-16cd-4439-b288-f83d61670fc8: ID Card\n",
      "22348099-3873-459e-a32e-d93b17eda533: Legacy ID\n",
      "8d79403a-c2cc-11de-8d13-0010c6dffd0f: Old Identification Number\n",
      "8d793bee-c2cc-11de-8d13-0010c6dffd0f: OpenMRS Identification Number\n",
      "a71403f3-8584-4289-ab41-2b4e5570bd45: SSN\n"
     ]
    }
   ],
   "source": [
    "id_types: dict = requests.get(rest_url + 'patientidentifiertype', auth=myauth).json()\n",
    "for res in id_types.get('results'):\n",
    "    print(f'{res.get('uuid')}: {res.get('display')}')"
   ]
  },
  {
   "cell_type": "code",
   "execution_count": 18,
   "id": "83a6ef6a",
   "metadata": {},
   "outputs": [
    {
     "data": {
      "text/plain": [
       "{'uuid': '31f70925-2606-468b-84fb-2d756f4fc083',\n",
       " 'display': 'NADRA NIC Number',\n",
       " 'name': 'NADRA NIC Number',\n",
       " 'description': 'National Identity Card granted by NADRA',\n",
       " 'format': '\\\\d{5}-\\\\d{7}-\\\\d{1}',\n",
       " 'formatDescription': 'Placeholder: 12345-1234567-1',\n",
       " 'required': False,\n",
       " 'validator': None,\n",
       " 'locationBehavior': None,\n",
       " 'uniquenessBehavior': None,\n",
       " 'retired': False,\n",
       " 'links': [{'rel': 'self',\n",
       "   'uri': 'http://localhost:8080/openmrs/ws/rest/v1/patientidentifiertype/31f70925-2606-468b-84fb-2d756f4fc083',\n",
       "   'resourceAlias': 'patientidentifiertype'},\n",
       "  {'rel': 'full',\n",
       "   'uri': 'http://localhost:8080/openmrs/ws/rest/v1/patientidentifiertype/31f70925-2606-468b-84fb-2d756f4fc083?v=full',\n",
       "   'resourceAlias': 'patientidentifiertype'}],\n",
       " 'resourceVersion': '2.0'}"
      ]
     },
     "execution_count": 18,
     "metadata": {},
     "output_type": "execute_result"
    }
   ],
   "source": [
    "nic_payload = {\n",
    "    'name': 'NADRA NIC Number',\n",
    "    'description': 'National Identity Card granted by NADRA',\n",
    "    'format': '\\\\d{5}-\\\\d{7}-\\\\d{1}',\n",
    "    'formatDescription': 'Placeholder: 12345-1234567-1',\n",
    "    'required': False,\n",
    "}\n",
    "nic_resp = requests.post(rest_url + 'patientidentifiertype', json = nic_payload, auth = myauth)\n",
    "nic_resp.json()"
   ]
  },
  {
   "cell_type": "markdown",
   "id": "76e38e76",
   "metadata": {},
   "source": [
    "## Identifier Sources"
   ]
  },
  {
   "cell_type": "code",
   "execution_count": null,
   "id": "bea48759",
   "metadata": {},
   "outputs": [
    {
     "data": {
      "text/plain": [
       "'8549f706-7e85-4c1d-9424-217d50a2988b: OpenMRS ID - Generator for OpenMRS ID - org.openmrs.module.idgen.SequentialIdentifierGenerator'"
      ]
     },
     "execution_count": 23,
     "metadata": {},
     "output_type": "execute_result"
    }
   ],
   "source": [
    "id_sources: dict = requests.get(rest_url + 'idgen/identifiersource', auth = myauth).json()\n",
    "oid_gen = id_sources.get('results')[0]\n",
    "\n",
    "f'{oid_gen.get('uuid')}: {oid_gen.get('display')}'"
   ]
  },
  {
   "cell_type": "markdown",
   "id": "90bfd988",
   "metadata": {},
   "source": [
    "### Using an identifier source to generate an identifier"
   ]
  },
  {
   "cell_type": "code",
   "execution_count": 31,
   "id": "4492682d",
   "metadata": {},
   "outputs": [
    {
     "data": {
      "text/plain": [
       "{'identifiers': ['10001YY', '100020W', '100021U']}"
      ]
     },
     "execution_count": 31,
     "metadata": {},
     "output_type": "execute_result"
    }
   ],
   "source": [
    "id_generation = {\n",
    "    'generateIdentifiers': True,\n",
    "    'sourceUuid': '8549f706-7e85-4c1d-9424-217d50a2988b',\n",
    "    'numberToGenerate': 3\n",
    "}\n",
    "new_id = requests.post(rest_url + 'idgen/identifiersource', json = id_generation, auth = myauth)\n",
    "new_id.json()"
   ]
  },
  {
   "cell_type": "markdown",
   "id": "5b7f7b2e",
   "metadata": {},
   "source": [
    "## Creating a patient"
   ]
  },
  {
   "cell_type": "markdown",
   "id": "4aada426",
   "metadata": {},
   "source": [
    "### 1. Pick the type and source"
   ]
  },
  {
   "cell_type": "code",
   "execution_count": null,
   "id": "e5a0c402",
   "metadata": {},
   "outputs": [
    {
     "name": "stdout",
     "output_type": "stream",
     "text": [
      "ID Source UUID: 8549f706-7e85-4c1d-9424-217d50a2988b\n",
      "ID Source: OpenMRS ID - Generator for OpenMRS ID - org.openmrs.module.idgen.SequentialIdentifierGenerator\n",
      "ID Type UUID: 05a29f94-c0ed-11e2-94be-8c13b969e334\n",
      "ID Type: OpenMRS ID\n"
     ]
    }
   ],
   "source": [
    "target_type = 'OpenMRS ID'\n",
    "\n",
    "id_sources: dict = requests.get(rest_url + 'idgen/identifiersource', auth = myauth).json()\n",
    "source_uuid = id_sources.get('results')[0].get('uuid')\n",
    "\n",
    "target_source: dict\n",
    "\n",
    "for each in id_sources.get('results'):\n",
    "    if target_type in each.get('display'):\n",
    "        target_source = each\n",
    "\n",
    "id_source_uuid = each.get('uuid')\n",
    "id_source_name = each.get('display')\n",
    "id_type_uuid = each.get('identifierType').get('uuid')\n",
    "id_type_name = each.get('identifierType').get('display')\n",
    "\n",
    "print(f\"ID Source UUID: {id_source_uuid}\")\n",
    "print(f\"ID Source: {id_source_name}\")\n",
    "print(f\"ID Type UUID: {id_type_uuid}\")\n",
    "print(f\"ID Type: {id_type_name}\")"
   ]
  },
  {
   "cell_type": "markdown",
   "id": "07781146",
   "metadata": {},
   "source": [
    "### 2. Generate ID from source"
   ]
  },
  {
   "cell_type": "code",
   "execution_count": 45,
   "id": "14d6835b",
   "metadata": {},
   "outputs": [
    {
     "data": {
      "text/plain": [
       "'100025J'"
      ]
     },
     "execution_count": 45,
     "metadata": {},
     "output_type": "execute_result"
    }
   ],
   "source": [
    "idgen_payload = {\n",
    "    'generateIdentifiers': True,\n",
    "    'sourceUuid': source_uuid,\n",
    "    'numberToGenerate': 1\n",
    "}\n",
    "idgen_response: dict = requests.post(rest_url + 'idgen/identifiersource', json = idgen_payload, auth = myauth).json()\n",
    "new_id = idgen_response.get('identifiers')[0]\n",
    "\n",
    "new_id"
   ]
  },
  {
   "cell_type": "markdown",
   "id": "18d9cb7a",
   "metadata": {},
   "source": [
    "### 3. Create patient with new ID"
   ]
  },
  {
   "cell_type": "code",
   "execution_count": 46,
   "id": "e045c527",
   "metadata": {},
   "outputs": [
    {
     "data": {
      "text/plain": [
       "{'uuid': '8cd1a0a8-3782-442c-ae34-14a84e2efc22',\n",
       " 'display': '100025J - Python Script',\n",
       " 'identifiers': [{'uuid': 'b70738c2-6437-45be-a2b7-7389e337d6c0',\n",
       "   'display': 'OpenMRS ID = 100025J',\n",
       "   'links': [{'rel': 'self',\n",
       "     'uri': 'http://localhost:8080/openmrs/ws/rest/v1/patient/8cd1a0a8-3782-442c-ae34-14a84e2efc22/identifier/b70738c2-6437-45be-a2b7-7389e337d6c0',\n",
       "     'resourceAlias': 'identifier'}]}],\n",
       " 'person': {'uuid': '8cd1a0a8-3782-442c-ae34-14a84e2efc22',\n",
       "  'display': 'Python Script',\n",
       "  'gender': 'F',\n",
       "  'age': 55,\n",
       "  'birthdate': '1970-01-01T04:00:00.000+0500',\n",
       "  'birthdateEstimated': False,\n",
       "  'dead': False,\n",
       "  'deathDate': None,\n",
       "  'causeOfDeath': None,\n",
       "  'preferredName': {'uuid': 'fc6509b4-9650-4916-a704-bdb52978c507',\n",
       "   'display': 'Python Script',\n",
       "   'links': [{'rel': 'self',\n",
       "     'uri': 'http://localhost:8080/openmrs/ws/rest/v1/person/8cd1a0a8-3782-442c-ae34-14a84e2efc22/name/fc6509b4-9650-4916-a704-bdb52978c507',\n",
       "     'resourceAlias': 'name'}]},\n",
       "  'preferredAddress': {'uuid': '681c4a0b-eb06-40c4-89ad-274bcb6aaf8e',\n",
       "   'display': 'Plot number 33, Malir 15',\n",
       "   'links': [{'rel': 'self',\n",
       "     'uri': 'http://localhost:8080/openmrs/ws/rest/v1/person/8cd1a0a8-3782-442c-ae34-14a84e2efc22/address/681c4a0b-eb06-40c4-89ad-274bcb6aaf8e',\n",
       "     'resourceAlias': 'address'}]},\n",
       "  'attributes': [],\n",
       "  'voided': False,\n",
       "  'birthtime': None,\n",
       "  'deathdateEstimated': False,\n",
       "  'links': [{'rel': 'self',\n",
       "    'uri': 'http://localhost:8080/openmrs/ws/rest/v1/person/8cd1a0a8-3782-442c-ae34-14a84e2efc22',\n",
       "    'resourceAlias': 'person'},\n",
       "   {'rel': 'full',\n",
       "    'uri': 'http://localhost:8080/openmrs/ws/rest/v1/person/8cd1a0a8-3782-442c-ae34-14a84e2efc22?v=full',\n",
       "    'resourceAlias': 'person'}],\n",
       "  'resourceVersion': '1.11'},\n",
       " 'voided': False,\n",
       " 'links': [{'rel': 'self',\n",
       "   'uri': 'http://localhost:8080/openmrs/ws/rest/v1/patient/8cd1a0a8-3782-442c-ae34-14a84e2efc22',\n",
       "   'resourceAlias': 'patient'},\n",
       "  {'rel': 'full',\n",
       "   'uri': 'http://localhost:8080/openmrs/ws/rest/v1/patient/8cd1a0a8-3782-442c-ae34-14a84e2efc22?v=full',\n",
       "   'resourceAlias': 'patient'}],\n",
       " 'resourceVersion': '1.8'}"
      ]
     },
     "execution_count": 46,
     "metadata": {},
     "output_type": "execute_result"
    }
   ],
   "source": [
    "new_patient_payload = {\n",
    "    'identifiers': [\n",
    "        {\n",
    "            'identifier': new_id,\n",
    "            'identifierType': id_type_uuid,\n",
    "            'preferred': False\n",
    "        }\n",
    "    ],\n",
    "    'person': {\n",
    "        'gender': 'F',\n",
    "        'age': 47,\n",
    "        'birthdate': '1970-01-01T00:00:00.000+0100',\n",
    "        'birthdateEstimated': False,\n",
    "        'dead': False,\n",
    "        'deathDate': None,\n",
    "        'causeOfDeath': None,\n",
    "        'names': [{'givenName': 'Python', 'familyName': 'Script'}],\n",
    "        'addresses': [\n",
    "            {\n",
    "                'address1': 'Plot number 33, Malir 15',\n",
    "                'cityVillage': 'Karachi',\n",
    "                'country': 'Pakistan',\n",
    "                'postalCode': '75210'\n",
    "            }\n",
    "        ]\n",
    "    },\n",
    "}\n",
    "patient_creation = requests.post(rest_url + 'patient', json = new_patient_payload, auth = myauth)\n",
    "patient_creation.json()"
   ]
  }
 ],
 "metadata": {
  "kernelspec": {
   "display_name": "squirrel",
   "language": "python",
   "name": "python3"
  },
  "language_info": {
   "codemirror_mode": {
    "name": "ipython",
    "version": 3
   },
   "file_extension": ".py",
   "mimetype": "text/x-python",
   "name": "python",
   "nbconvert_exporter": "python",
   "pygments_lexer": "ipython3",
   "version": "3.12.10"
  }
 },
 "nbformat": 4,
 "nbformat_minor": 5
}
